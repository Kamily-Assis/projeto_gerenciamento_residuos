{
  "nbformat": 4,
  "nbformat_minor": 0,
  "metadata": {
    "colab": {
      "provenance": []
    },
    "kernelspec": {
      "name": "python3",
      "display_name": "Python 3"
    },
    "language_info": {
      "name": "python"
    }
  },
  "cells": [
    {
      "cell_type": "markdown",
      "source": [
        "# projeto_gerenciamento_residuos\n",
        "Projeto  da disciplina de programação estruturada com o tema \"gerenciamento de resíduos\", envolvendo estrutura de dados.\n",
        "## Integrantes\n",
        "Os integrantes do projeto são:\n",
        " - Beatriz Barreto Cavalcanti\n",
        " - Jessica Chaves Nagahama\n",
        " - Kamily Assis de Oliveira\n",
        " - Adriel Ferreira Trajano\n",
        " - Paloma Duarte de Lira\n",
        "\n",
        "\n"
      ],
      "metadata": {
        "id": "lKwP5Mcx4aYY"
      }
    }
  ]
}